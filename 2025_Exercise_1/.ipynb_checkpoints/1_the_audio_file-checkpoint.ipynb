{
 "cells": [
  {
   "cell_type": "markdown",
   "id": "075e555e-e9fe-46e1-96cd-e12b6c118288",
   "metadata": {},
   "source": [
    "<nav class=\"navbar navbar-default\">\n",
    "  <div class=\"container-fluid\">\n",
    "    <div class=\"navbar-header\" style=\"float: left\">\n",
    "        <a class=\"navbar-brand\" href=\"0_Index.ipynb\" target=\"_self\"> <h2> &uarr; Back to front page</h2></a>\n",
    "    </div>\n",
    "  </div>\n",
    "</nav>"
   ]
  },
  {
   "cell_type": "markdown",
   "id": "bd31b8de",
   "metadata": {},
   "source": [
    "# Exploring an audio file\n",
    "\n",
    "When audio signals are recorded to a digital medium, this is done by sampling the amplitude of an analog signal (aka. voltage output from a microphone) at regular intervals known as the *sampling period* $T_s$, resulting in a sequence of measured values. An illustration of this process is shown below.\n",
    "\n",
    "<!--<img src=\"Figures/Task1_Ts.png\" style=\"width: 600px; margin-left: 100px\" />-->\n",
    "\n",
    "![Sampling period illustrated](Figures/Task1_Ts.png)\n",
    "\n",
    "Closely related to the sampling period $T_s$ is the *sampling rate* or *sampling frequency* $f_s$, defined as the *number of samples per second*. The sampling frequency $f_s$ is calculated simpy by inverting the samping period $T_s$.\n",
    "\n",
    "$$f_s =\\frac{1}{T_s}$$\n",
    "\n",
    "In order to reconstruct an analog voltage signal which can be sent to speakers or headphones, both knowledge of the sampling frequency used during recording *and* the measured sample values are required. Happily, all this information is contained within any audio file format.\n",
    "\n",
    "The codecell below uses a function available through the `scipy` module to read the audio file `example_music.wav` containing some relaxing classical music. The sequence of audio amplitude measurements which contain the actual audio signal is assigned to the variable `sampleData` in the form of a very long `array`, while the sampling frequency is an integer value which is assigned to the variable `fs`. \n",
    "\n",
    "After loading the audio file, the data is passed along to an embedded Auduio playback widget accessible through the IPython module. "
   ]
  },
  {
   "cell_type": "code",
   "execution_count": null,
   "id": "e395078f",
   "metadata": {},
   "outputs": [],
   "source": [
    "import scipy.io.wavfile as wavfile # Import module for handling of .wav audio files\n",
    "from IPython.display import Audio   # For loading embedded audio player\n",
    "\n",
    "fs, sampleData = wavfile.read(\"sample_audio.wav\") # \"fs\" is sampling frequency, \"sampleData\" is the sequence of measurements\n",
    "\n",
    "# Use the following lines to listen to the audio signal\n",
    "Audio(sampleData, rate=fs)"
   ]
  },
  {
   "cell_type": "markdown",
   "id": "2e08e864",
   "metadata": {},
   "source": [
    "## a)\n",
    "\n",
    "Run the codecell and listen to the audio clip. We can now begin our analysis of the audio signal. \n",
    "\n",
    "Using the data gathered in the codecell above, write a script which calculates the sampling period $T_s$ in *microseconds*, and the total duration of the audio file. <br> *hint: the function `len()` should be useful here*. "
   ]
  },
  {
   "cell_type": "code",
   "execution_count": null,
   "id": "41d37666",
   "metadata": {
    "deletable": false,
    "nbgrader": {
     "cell_type": "code",
     "checksum": "dee6030b4143a8d487460a32cad7a00d",
     "grade": true,
     "grade_id": "cell-3be1130d2ae8705f",
     "locked": false,
     "points": 5,
     "schema_version": 3,
     "solution": true,
     "task": false
    },
    "tags": []
   },
   "outputs": [],
   "source": [
    "T_s = \"???\" # Sample period in microseconds\n",
    "duration = \"???\" # Audio file length in seconds\n",
    "\n",
    "# WRITE YOUR CODE IN THIS CELL:"
   ]
  },
  {
   "cell_type": "code",
   "execution_count": null,
   "id": "90be88c1-5b87-41b8-b494-24273923f844",
   "metadata": {
    "deletable": false,
    "editable": false,
    "nbgrader": {
     "cell_type": "code",
     "checksum": "835c7cec17ca964bd393368de61954ce",
     "grade": true,
     "grade_id": "cell-95ffc67c8bcfcb87",
     "locked": true,
     "points": 0,
     "schema_version": 3,
     "solution": false,
     "task": false
    }
   },
   "outputs": [],
   "source": [
    "from hashlib import sha1\n",
    "assert sha1(str(round(T_s, 3)).encode('utf-8')+b'e585b').hexdigest() == '86114d68d6f3bf7c408f2570aa7837f6b2918733', 'Wrong answer for T_s :('; print('Correct answer for T_s :)')\n",
    "assert sha1(str(round(duration, 3)).encode('utf-8')+b'35160').hexdigest() == '6359777fd70e173df99cec0e2997b1f33c1d0065', 'Wrong answer for duration :('; print('Correct answer for duration :)')"
   ]
  },
  {
   "cell_type": "markdown",
   "id": "41ee6c76",
   "metadata": {
    "editable": true,
    "slideshow": {
     "slide_type": ""
    },
    "tags": []
   },
   "source": [
    "## b)\n",
    "\n",
    "Use the Audio object to play back the audio clip once with double the sample rate $f_s$, and once with half the sample rate. What effects can you hear? Explain the cause of these effects."
   ]
  },
  {
   "cell_type": "code",
   "execution_count": null,
   "id": "16bbc18d",
   "metadata": {
    "deletable": false,
    "editable": true,
    "nbgrader": {
     "cell_type": "code",
     "checksum": "e52d388a7bd7d977a1e50d0d18d14eeb",
     "grade": true,
     "grade_id": "cell-7938e705a223d241",
     "locked": false,
     "points": 5,
     "schema_version": 3,
     "solution": true,
     "task": false
    },
    "slideshow": {
     "slide_type": ""
    },
    "tags": []
   },
   "outputs": [],
   "source": [
    "# WRITE YOUR CODE IN THIS CELL:"
   ]
  },
  {
   "cell_type": "markdown",
   "id": "30aa0678",
   "metadata": {
    "deletable": false,
    "editable": true,
    "nbgrader": {
     "cell_type": "markdown",
     "checksum": "8ce1ca833aa9a79cf70c3cd8722a1837",
     "grade": true,
     "grade_id": "cell-6965f45985179140",
     "locked": false,
     "points": 5,
     "schema_version": 3,
     "solution": true,
     "task": false
    },
    "slideshow": {
     "slide_type": ""
    },
    "tags": []
   },
   "source": [
    "\n",
    "<div class=\"alert alert-info\">\n",
    "<h4> Answer theory questions here!</h4>\n",
    "</div>\n"
   ]
  },
  {
   "cell_type": "markdown",
   "id": "d5244714",
   "metadata": {
    "editable": true,
    "slideshow": {
     "slide_type": ""
    },
    "tags": []
   },
   "source": [
    "A crucial parameter to be aware of when working with audio is the bit rate of the digital audio signal measured in bps (bits per second).\n",
    "\n",
    "## c) \n",
    "\n",
    "Given each sample having 16 bit resolution, what is the bit rate for the audio recording and what is the total size of the file (assuming no compression)?\n"
   ]
  },
  {
   "cell_type": "code",
   "execution_count": null,
   "id": "b87d8b9d",
   "metadata": {
    "deletable": false,
    "editable": true,
    "nbgrader": {
     "cell_type": "code",
     "checksum": "8e01207c28e2f52bb5c90784165d5c69",
     "grade": true,
     "grade_id": "cell-508f57c803ebff8d",
     "locked": false,
     "points": 5,
     "schema_version": 3,
     "solution": true,
     "task": false
    },
    "slideshow": {
     "slide_type": ""
    },
    "tags": []
   },
   "outputs": [],
   "source": [
    "bit_rate = \"???\" # bits per second\n",
    "file_size = \"???\" # Total file size in bits\n",
    "\n",
    "# WRITE YOUR CODE IN THIS CELL:"
   ]
  },
  {
   "cell_type": "code",
   "execution_count": null,
   "id": "842d49bf-2b96-4ca6-b821-41e6ed58abc0",
   "metadata": {
    "deletable": false,
    "editable": false,
    "nbgrader": {
     "cell_type": "code",
     "checksum": "21a4d0a31485aa15d69f5afb3ed0b301",
     "grade": true,
     "grade_id": "cell-c7a68e8fca8ca302",
     "locked": true,
     "points": 0,
     "schema_version": 3,
     "solution": false,
     "task": false
    }
   },
   "outputs": [],
   "source": [
    "from hashlib import sha1\n",
    "assert sha1(str(round(bit_rate)).encode('utf-8')+b'7031e').hexdigest() == 'e977d8c1a62c632cc44688e4d9291ad1ffc6293c', 'Wrong answer for bit_rate :('; print('Correct answer for bit_rate :)')\n",
    "assert sha1(str(round(file_size)).encode('utf-8')+b'de0f5').hexdigest() == '283536d927f25736dd1699d4c53e580290d6a099', 'Wrong answer for file_size :('; print('Correct answer for file_size :)')"
   ]
  },
  {
   "cell_type": "markdown",
   "id": "e6585e6d",
   "metadata": {},
   "source": [
    "It is often desirable to provide a graphical plot of the audio signal. Simply passing the `sampleData` to the `plot()` function should acheive this, but the x-axis will show sample index `n` instead of the time `t` in seconds, which may be rather unhelpful. Based on the total number of samples in the audio clip and the sampling rate, we can adjust the plot to show signal amplitude as a function of time $t$ in seconds by creating a new array (e.g. `t`) of equal length to our audio signal which spans the duration of our audio signal.\n",
    "\n",
    "For example, given an audio file with $N$ samples and sampling rate $f_s$, what we want is an array `t` with `N` elements linearly spaced in the time span $0 \\leq t < \\frac{N}{f_s}$.\n",
    "\n",
    "## d)\n",
    "\n",
    "Write the code to generate this plot in the codecell below. `numpy.array`, `numpy.arange` and `numpy.linspace` can all be used here. If done correctly, the resulting figure should look something like [this](Figures/audio_plot.png).\n"
   ]
  },
  {
   "cell_type": "code",
   "execution_count": null,
   "id": "91b96368",
   "metadata": {
    "deletable": false,
    "editable": true,
    "nbgrader": {
     "cell_type": "code",
     "checksum": "4451897e3a4d9a24a5571a21c5543ea0",
     "grade": true,
     "grade_id": "cell-779cad4651c44182",
     "locked": false,
     "points": 5,
     "schema_version": 3,
     "solution": true,
     "task": false
    },
    "slideshow": {
     "slide_type": ""
    },
    "tags": []
   },
   "outputs": [],
   "source": [
    "# WRITE YOUR CODE IN THIS CELL:"
   ]
  },
  {
   "cell_type": "markdown",
   "id": "7fb4afe9-8796-485f-9fe1-9d9e5854f7eb",
   "metadata": {},
   "source": [
    "<br>\n",
    "<nav class=\"navbar navbar-default\">\n",
    "  <div class=\"container-fluid\">\n",
    "    <div class=\"navbar-header\" style=\"float: right\">\n",
    "        <a class=\"navbar-brand\" href=\"2_processing_audio.ipynb\" target=\"_self\">Next page: <i>Processing audio signals</i> &gt;</a>\n",
    "    </div>\n",
    "  </div>\n",
    "</nav>"
   ]
  }
 ],
 "metadata": {
  "kernelspec": {
   "display_name": "Python 3 (ipykernel)",
   "language": "python",
   "name": "python3"
  },
  "language_info": {
   "codemirror_mode": {
    "name": "ipython",
    "version": 3
   },
   "file_extension": ".py",
   "mimetype": "text/x-python",
   "name": "python",
   "nbconvert_exporter": "python",
   "pygments_lexer": "ipython3",
   "version": "3.12.2"
  },
  "varInspector": {
   "cols": {
    "lenName": 16,
    "lenType": 16,
    "lenVar": 40
   },
   "kernels_config": {
    "python": {
     "delete_cmd_postfix": "",
     "delete_cmd_prefix": "del ",
     "library": "var_list.py",
     "varRefreshCmd": "print(var_dic_list())"
    },
    "r": {
     "delete_cmd_postfix": ") ",
     "delete_cmd_prefix": "rm(",
     "library": "var_list.r",
     "varRefreshCmd": "cat(var_dic_list()) "
    }
   },
   "types_to_exclude": [
    "module",
    "function",
    "builtin_function_or_method",
    "instance",
    "_Feature"
   ],
   "window_display": false
  }
 },
 "nbformat": 4,
 "nbformat_minor": 5
}
